{
 "cells": [
  {
   "cell_type": "code",
   "execution_count": 3,
   "metadata": {},
   "outputs": [],
   "source": [
    "import cv2\n",
    "import imutils\n",
    "import numpy as np\n",
    "\n",
    "bg = None\n",
    "\n",
    "\n",
    "def run_avg(image, aWeight):\n",
    "    global bg\n",
    "    \n",
    "    if bg is None:\n",
    "        bg = image.copy().astype(\"float\")\n",
    "        return\n",
    "    \n",
    "    cv2.accumulateWeighted(image, bg, aWeight)\n",
    "    \n",
    "def segment(image, threshold=25):\n",
    "    global bg\n",
    "    \n",
    "    diff = cv2.absdiff(bg.astype('uint8'), image)\n",
    "    \n",
    "    thresholded = cv2.threshold(diff, threshold, 255, cv2.THRESH_BINARY)[1]\n",
    "    \n",
    "    (_, cnts, _) = cv2.findContours(thresholded.copy(), cv2.RETR_EXTERNAL, cv2.CHAIN_APPROX_SIMPLE)\n",
    "    \n",
    "    \n",
    "    if len(cnts) == 0:\n",
    "        return\n",
    "    else:\n",
    "        segmented = max(cnts, key=cv2.contourArea)\n",
    "        return (thresholded, segmented)\n",
    "    "
   ]
  },
  {
   "cell_type": "code",
   "execution_count": 4,
   "metadata": {},
   "outputs": [
    {
     "name": "stdout",
     "output_type": "stream",
     "text": [
      "opencv_frame_0.png written!\n"
     ]
    }
   ],
   "source": [
    "import cv2 \n",
    "\n",
    "aWeight = 0.5\n",
    "\n",
    "camera = cv2.VideoCapture(0)\n",
    "\n",
    "top, right, bottom, left = 10, 350, 255, 590\n",
    "\n",
    "num_frames = 0\n",
    "\n",
    "img_counter = 0\n",
    "\n",
    "while(True):\n",
    "    \n",
    "    (grabbed, frame) = camera.read()\n",
    "    \n",
    "    frame = imutils.resize(frame, width=700)\n",
    "    \n",
    "    frame = cv2.flip(frame, 1)\n",
    "    \n",
    "    clone = frame.copy()\n",
    "    \n",
    "    (height, width) = frame.shape[:2]\n",
    "    \n",
    "    roi = frame[top:bottom, right:left]\n",
    "    \n",
    "#     gray = cv2.cvtColor(roi, cv2.COLOR_BGR2GRAY)\n",
    "#     gray = cv2.GaussianBlur(gray, (7,7), 0)\n",
    "    \n",
    "#     if num_frames < 30:\n",
    "#         run_avg(gray, aWeight)\n",
    "#     else:\n",
    "#         hand = segment(gray)\n",
    "        \n",
    "#         if hand is not None:\n",
    "            \n",
    "#             (thresholded, segmented) = hand\n",
    "            \n",
    "#             cv2.drawContours(clone, [segmented + (right, top)], -1, (0, 0, 255))\n",
    "#             cv2.imshow(\"Thresholded\", thresholded)\n",
    "            \n",
    "    image_area = cv2.rectangle(clone, (left, top), (right, bottom), (0, 255, 0), 2)\n",
    "    \n",
    "#     num_frames += 1\n",
    "    \n",
    "    cv2.imshow(\"Video Feed\", clone)\n",
    "    \n",
    "    keypress = cv2.waitKey(1)\n",
    "    \n",
    "    if keypress%256 == 32:\n",
    "        img_name = \"opencv_frame_{}.png\".format(img_counter)\n",
    "        cv2.imwrite(img_name, image_area)\n",
    "        print(\"{} written!\".format(img_name))\n",
    "        img_counter+=1\n",
    "    elif keypress & 0xFF == ord('q'):\n",
    "        break\n",
    "        \n",
    "        \n",
    "camera.release()\n",
    "cv2.destroyAllWindows()"
   ]
  },
  {
   "cell_type": "code",
   "execution_count": 1,
   "metadata": {},
   "outputs": [
    {
     "name": "stdout",
     "output_type": "stream",
     "text": [
      "opencv_frame_0.png written!\n"
     ]
    }
   ],
   "source": [
    "import numpy as np\n",
    "import cv2\n",
    "\n",
    "camera = cv2.VideoCapture(0)\n",
    "\n",
    "img_counter = 0\n",
    "\n",
    "while camera.isOpened():\n",
    "    \n",
    "    ret, frame = camera.read()\n",
    "    \n",
    "    cv2.imshow('frame', frame)\n",
    "\n",
    "    k = cv2.waitKey(1)\n",
    "    \n",
    "    if k%256 == 32:\n",
    "        img_name = \"opencv_frame_{}.png\".format()\n",
    "        cv2.imwrite(img_name, frame)\n",
    "        print(\"{} written!\".format(img_name))\n",
    "    if k & 0xFF == ord('q'):\n",
    "        break\n",
    "        \n",
    "        \n",
    "camera.release()\n",
    "\n",
    "cv2.destroyAllWindows()"
   ]
  },
  {
   "cell_type": "code",
   "execution_count": null,
   "metadata": {},
   "outputs": [],
   "source": [
    " "
   ]
  }
 ],
 "metadata": {
  "kernelspec": {
   "display_name": "Python 3",
   "language": "python",
   "name": "python3"
  },
  "language_info": {
   "codemirror_mode": {
    "name": "ipython",
    "version": 3
   },
   "file_extension": ".py",
   "mimetype": "text/x-python",
   "name": "python",
   "nbconvert_exporter": "python",
   "pygments_lexer": "ipython3",
   "version": "3.8.5"
  }
 },
 "nbformat": 4,
 "nbformat_minor": 4
}
